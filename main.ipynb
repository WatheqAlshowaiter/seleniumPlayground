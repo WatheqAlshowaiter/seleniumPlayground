def get_url(page_url, driver):
    driver.get(page_url)
    
    sleep(page_load_timeout)

    closePopup = driver.find_elements_by_css_selector('fancybox-item.icon-cross97.fancybox-close')
    if(len(closePopup) > 1):
        closePopup[0].click()
    
    return True

# section code for testing, then you can take it to the for loop for all categories with pagination

def get_products(driver):
    products = driver.find_elements_by_css_selector('.rectangle .rectLi')

    products_info = []

    for product in products:
        # product_title = ''
        # if (len(product.find_elements_by_css_selector('a.block.postLink.notEg.postSpanTitle.noEmojiText')) > 0):
        #     product_title = product.find_elements_by_css_selector('a.block.postLink.notEg.postSpanTitle.noEmojiText')[0].text
        
        # this code is like the above one but faster
        product_title = product.find_elements_by_css_selector('a.block.postLink.notEg.postSpanTitle.noEmojiText')[0].text if len(product.find_elements_by_css_selector('a.block.postLink.notEg.postSpanTitle.noEmojiText')) > 0 else ''
        product_link = product.find_elements_by_css_selector('a.block.postLink.notEg.postSpanTitle.noEmojiText')[0].get_attribute('href') if len(product.find_elements_by_css_selector('a.block.postLink.notEg.postSpanTitle.noEmojiText')) > 0 else ''
        product_price = product.find_elements_by_css_selector('.price-wrapper > span.inline.ltr')[0].text if len(product.find_elements_by_css_selector('.price-wrapper > span.inline.ltr')) > 0 else 0

        if product_link == '' or product_title == '' or product_price == 0:
            continue
        # return a dictionary with the product title, link, price 
        product_info = {
            'product_title': product_title,
            'product_link': product_link,
            'product_price': product_price,
            'inserted_ar': datetime.now(),
            'updated_at': datetime.now(),
            'published_at' : False,
        }

        if(db.products.count_documents({'$or':[{'product_title': product_title}, {'product_link': product_link}] }) == 0):
            _ = db.products.insert_one(product_info)
        else:
            pd = db.products.find_one({'$or':[{'product_title': product_title}, {'product_link': product_link}] })
            if pd['product_price'] != product_price:
                db.products.update_one({'_id': pd['_id']}, {'$set': {'product_price': product_price, 'updated_at': datetime.now()}})


        products_info.append( product_info )

        return products_info
